{
 "cells": [
  {
   "cell_type": "code",
   "execution_count": null,
   "metadata": {},
   "outputs": [],
   "source": [
    "import pandas as pd\n",
    "import numpy as np\n",
    "from sklearn.decomposition import PCA\n",
    "import matplotlib.pyplot as plt\n",
    "import os"
   ]
  },
  {
   "cell_type": "code",
   "execution_count": null,
   "metadata": {},
   "outputs": [],
   "source": [
    "def add_prefix_to_columns(df, prefix):\n",
    "    new_columns = [df.columns[0]] + [prefix + col for col in df.columns[1:]]\n",
    "    df.columns = new_columns\n",
    "    return df"
   ]
  },
  {
   "cell_type": "code",
   "execution_count": null,
   "metadata": {},
   "outputs": [],
   "source": [
    "path = './data/brain/Train/'\n",
    "fulldata = pd.read_csv(os.path.join(path,'subject_info - 1600.csv')).iloc[:,:-1]\n",
    "for file in os.listdir(path):\n",
    "    if 'subject_info' in file:\n",
    "        continue\n",
    "    temp = add_prefix_to_columns(pd.read_csv(os.path.join(path,file)),file.split('-')[0])\n",
    "    fulldata = pd.merge(fulldata, temp, on='subject_ID', how='inner')\n",
    "fulldata.drop(['subject_ID'],axis=1,inplace=True)\n",
    "fulldata.rename(columns={'性别': 'sex','年龄':'age','MRI扫描仪类型':'type'}, inplace=True)\n",
    "fulldata['type'] = fulldata['type'].replace({'GE': 0, 'SIEMENS': 1})\n",
    "fulldata.columns = fulldata.columns.str.replace(' ', '')\n",
    "fulldata.columns = fulldata.columns.str.replace('.', '')\n",
    "fulldata.columns = fulldata.columns.str.replace('-', '')\n",
    "fulldata['sex'] = fulldata['sex'].replace(2,0)"
   ]
  },
  {
   "cell_type": "code",
   "execution_count": null,
   "metadata": {},
   "outputs": [],
   "source": [
    "# 假设df是你的DataFrame\n",
    "X = fulldata.drop('age', axis=1)  # predictors\n",
    "y = fulldata['age']  # response\n"
   ]
  }
 ],
 "metadata": {
  "kernelspec": {
   "display_name": "413",
   "language": "python",
   "name": "python3"
  },
  "language_info": {
   "name": "python",
   "version": "3.9.0 (default, Nov 15 2020, 14:28:56) \n[GCC 7.3.0]"
  },
  "orig_nbformat": 4,
  "vscode": {
   "interpreter": {
    "hash": "92b8e14dfeed16a216001151d385f5d1dd7906c0185d32d4308beeb46036c009"
   }
  }
 },
 "nbformat": 4,
 "nbformat_minor": 2
}
